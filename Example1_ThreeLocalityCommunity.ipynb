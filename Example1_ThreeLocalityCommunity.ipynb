{
 "cells": [
  {
   "attachments": {},
   "cell_type": "markdown",
   "metadata": {},
   "source": [
    "# Example 1: Three Localities Community \n",
    "\n",
    "Example 1 illustrates how the resilience of a simple community with five components located in three localities can be assessed using **pyrecodes**.\n",
    "\n",
    "Components considered in Example 1 are Base Transceiver Stations (BTS), Electric Power Plant (EPP), Cooling Water Facility (CWF), Building Stock Unit (BSU) and links transferring resources among components.\n",
    "\n",
    "Please refer to the **pyrecodes** [Example 1 page](https://nikolablagojevic.github.io/pyrecodes/html/usage/examples/example_1.html) for more details.\n",
    "\n",
    "![ThreeLocalitiesCommunity](./Example%201/Example_1_Community.png)"
   ]
  },
  {
   "cell_type": "code",
   "execution_count": null,
   "metadata": {},
   "outputs": [],
   "source": [
    "from pyrecodes import main\n",
    "\n",
    "system = main.run('./Example 1/ThreeLocalitiesCommunity_Main.json')\n",
    "\n",
    "system.calculate_resilience()"
   ]
  },
  {
   "attachments": {},
   "cell_type": "markdown",
   "metadata": {},
   "source": [
    "## Plotting resilience assessment results \n",
    "\n",
    "Class **Plotter** is used to create supply/demand/consumption plots and gantt charts illustrating system's recovery."
   ]
  },
  {
   "cell_type": "code",
   "execution_count": null,
   "metadata": {},
   "outputs": [],
   "source": [
    "from pyrecodes.plotter.concrete_plotter import ConcretePlotter\n",
    "\n",
    "plotter_object = ConcretePlotter()\n",
    "resources_to_plot = ['ElectricPower', 'CoolingWater', 'Communication']\n",
    "units = ['[MWh/day]', '[m^3/day]', '[E/day]']\n",
    "plotter_object.plot_supply_demand_dynamics(system, resources_to_plot, units)\n",
    "plotter_object.plot_gantt_chart(system.components)"
   ]
  }
 ],
 "metadata": {
  "kernelspec": {
   "display_name": "env_pyrecodes",
   "language": "python",
   "name": "python3"
  },
  "language_info": {
   "codemirror_mode": {
    "name": "ipython",
    "version": 3
   },
   "file_extension": ".py",
   "mimetype": "text/x-python",
   "name": "python",
   "nbconvert_exporter": "python",
   "pygments_lexer": "ipython3",
   "version": "3.9.13"
  },
  "orig_nbformat": 4
 },
 "nbformat": 4,
 "nbformat_minor": 2
}
