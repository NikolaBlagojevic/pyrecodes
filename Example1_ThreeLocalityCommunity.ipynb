{
 "cells": [
  {
   "attachments": {},
   "cell_type": "markdown",
   "metadata": {},
   "source": [
    "# Example 1: Three Localities Community \n",
    "\n",
    "Example 1 illustrates how the resilience of a simple community with five components located in three localities can be assessed using **pyrecodes**.\n",
    "\n",
    "Components considered in Example 1 are Base Transceiver Stations (BTS), Electric Power Plant (EPP), Cooling Water Facility (CWF), Building Stock Unit (BSU) and links transferring resources among components.\n",
    "\n",
    "Please refer to the **pyrecodes** [Example 1 page](https://nikolablagojevic.github.io/pyrecodes/html/usage/examples/example_1.html) for more details.\n",
    "\n",
    "![ThreeLocalitiesCommunity](./Example%201/Example_1_Community.png)"
   ]
  },
  {
   "cell_type": "code",
   "execution_count": null,
   "metadata": {},
   "outputs": [],
   "source": [
    "from pyrecodes import main\n",
    "system = main.run('./Example 1/ThreeLocalitiesCommunity_Main.json')\n",
    "\n",
    "system.calculate_resilience()"
   ]
  },
  {
   "attachments": {},
   "cell_type": "markdown",
   "metadata": {},
   "source": [
    "## Plotting resilience assessment results \n",
    "\n",
    "Class **Plotter** is used to create supply/demand/consumption plots and gantt charts illustrating system's recovery."
   ]
  },
  {
   "cell_type": "code",
   "execution_count": null,
   "metadata": {},
   "outputs": [],
   "source": [
    "from pyrecodes import Plotter\n",
    "\n",
    "plotter_object = Plotter.Plotter()\n",
    "x_axis_label = 'Time step [day]'\n",
    "resources_to_plot = ['ElectricPower', 'CoolingWater', 'Communication']\n",
    "for resource_name in resources_to_plot:\n",
    "    y_axis_label = f'{resource_name} Demand/Supply/Consumption [MWh/day]'\n",
    "    axis_object = plotter_object.setup_lor_plot_fig(x_axis_label, y_axis_label)\n",
    "    # supply/demand/consumption information is in the ReCoDeS resilience calculator object, which is stored in the system object: system.resilience_calculators[0]\n",
    "    plotter_object.plot_single_resource(list(range(system.time_step+1)), system.resilience_calculators[0].system_supply[resource_name], \n",
    "                                        system.resilience_calculators[0].system_demand[resource_name], \n",
    "                                        system.resilience_calculators[0].system_consumption[resource_name], axis_object)\n",
    "\n",
    "axis_object = plotter_object.setup_gantt_chart_fig(x_axis_label, system.components)\n",
    "plotter_object.plot_gantt_chart(system.components, axis_object)"
   ]
  }
 ],
 "metadata": {
  "kernelspec": {
   "display_name": "Python 3.8.15 ('pyrecodes_env')",
   "language": "python",
   "name": "python3"
  },
  "language_info": {
   "codemirror_mode": {
    "name": "ipython",
    "version": 3
   },
   "file_extension": ".py",
   "mimetype": "text/x-python",
   "name": "python",
   "nbconvert_exporter": "python",
   "pygments_lexer": "ipython3",
   "version": "3.9.6"
  },
  "orig_nbformat": 4,
  "vscode": {
   "interpreter": {
    "hash": "1b6a5737a7415642fca6003ea82352d5d1dca0ebd2e87f055b5aa6303d49f64d"
   }
  }
 },
 "nbformat": 4,
 "nbformat_minor": 2
}
