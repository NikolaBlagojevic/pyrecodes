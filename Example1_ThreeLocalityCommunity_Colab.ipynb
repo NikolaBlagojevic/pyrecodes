{
  "cells": [
    {
      "cell_type": "markdown",
      "metadata": {
        "colab_type": "text",
        "id": "view-in-github"
      },
      "source": [
        "<a href=\"https://colab.research.google.com/github/NikolaBlagojevic/pyrecodes/blob/main/Example1_ThreeLocalityCommunity_Colab.ipynb\" target=\"_parent\"><img src=\"https://colab.research.google.com/assets/colab-badge.svg\" alt=\"Open In Colab\"/></a>"
      ]
    },
    {
      "cell_type": "code",
      "execution_count": null,
      "metadata": {
        "id": "ct-yqHEVT6WY"
      },
      "outputs": [],
      "source": [
        "!git clone https://github.com/NikolaBlagojevic/pyrecodes.git\n",
        "%cd pyrecodes"
      ]
    },
    {
      "cell_type": "markdown",
      "metadata": {
        "id": "FmFXPEsHT5lt"
      },
      "source": [
        "# Example 1: Three Localities Community\n",
        "\n",
        "Example 1 illustrates how the resilience of a simple community with five components located in three localities can be assessed using **pyrecodes**.\n",
        "\n",
        "Components considered in Example 1 are Base Transceiver Stations (BTS), Electric Power Plant (EPP), Cooling Water Facility (CWF), Building Stock Unit (BSU) and links transferring resources among components.\n",
        "\n",
        "Please refer to the **pyrecodes** [Example 1 page](https://nikolablagojevic.github.io/pyrecodes/html/usage/examples/example_1.html) for more details.\n",
        "\n",
        "![ThreeLocalitiesCommunity](https://github.com/NikolaBlagojevic/pyrecodes/blob/main/Example%201/Example_1_Community.png?raw=1)"
      ]
    },
    {
      "cell_type": "code",
      "execution_count": null,
      "metadata": {
        "id": "iSMmYlIOT5lv"
      },
      "outputs": [],
      "source": [
        "from pyrecodes import main\n",
        "\n",
        "system = main.run('./Example 1/ThreeLocalitiesCommunity_Main.json')\n",
        "\n",
        "system.calculate_resilience()"
      ]
    },
    {
      "cell_type": "markdown",
      "metadata": {
        "id": "4JiIPlgQT5lw"
      },
      "source": [
        "## Plotting resilience assessment results\n",
        "\n",
        "Class **Plotter** is used to create supply/demand/consumption plots and gantt charts illustrating system's recovery."
      ]
    },
    {
      "cell_type": "code",
      "execution_count": null,
      "metadata": {
        "id": "cQ6ZbEsxT5lw"
      },
      "outputs": [],
      "source": [
        "from pyrecodes.plotter.concrete_plotter import ConcretePlotter\n",
        "\n",
        "plotter_object = ConcretePlotter()\n",
        "resources_to_plot = ['ElectricPower', 'CoolingWater', 'Communication']\n",
        "units = ['[MWh/day]', '[m^3/day]', '[E/day]']\n",
        "plotter_object.plot_supply_demand_dynamics(system, resources_to_plot, units)\n",
        "plotter_object.plot_gantt_chart(system.components)"
      ]
    }
  ],
  "metadata": {
    "colab": {
      "include_colab_link": true,
      "provenance": []
    },
    "kernelspec": {
      "display_name": "Python 3.8.15 ('pyrecodes_env')",
      "language": "python",
      "name": "python3"
    },
    "language_info": {
      "codemirror_mode": {
        "name": "ipython",
        "version": 3
      },
      "file_extension": ".py",
      "mimetype": "text/x-python",
      "name": "python",
      "nbconvert_exporter": "python",
      "pygments_lexer": "ipython3",
      "version": "3.9.6"
    },
    "orig_nbformat": 4,
    "vscode": {
      "interpreter": {
        "hash": "1b6a5737a7415642fca6003ea82352d5d1dca0ebd2e87f055b5aa6303d49f64d"
      }
    }
  },
  "nbformat": 4,
  "nbformat_minor": 0
}
