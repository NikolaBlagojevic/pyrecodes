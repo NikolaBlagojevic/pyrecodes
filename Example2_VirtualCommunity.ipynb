{
 "cells": [
  {
   "attachments": {},
   "cell_type": "markdown",
   "metadata": {},
   "source": [
    "# Example 2: Virtual Community \n",
    "\n",
    "Example 2 shows how **pyrecodes** can be used to assess the resilience of interdependent infrastructure systems and housing in a virtual community. This is a toy example to illustrate how the system recovery and interdependencies are captured in iRe-CoDeS.\n",
    "\n",
    "Please refer to the **pyrecodes** [Example 2 page](https://nikolablagojevic.github.io/pyrecodes/html/usage/examples/example_2.html) for further details.\n",
    "\n",
    "![VirtualCommunity](./Example%202/Example_2_Community.png)"
   ]
  },
  {
   "cell_type": "code",
   "execution_count": null,
   "metadata": {},
   "outputs": [],
   "source": [
    "from pyrecodes import main\n",
    "\n",
    "system = main.run('./Example 2/VirtualCommunity_Main.json')\n",
    "\n",
    "system.calculate_resilience()"
   ]
  },
  {
   "cell_type": "code",
   "execution_count": null,
   "metadata": {},
   "outputs": [],
   "source": [
    "from pyrecodes.plotter.concrete_plotter import ConcretePlotter\n",
    "\n",
    "plotter_object = ConcretePlotter()\n",
    "resources_to_plot = ['ElectricPower', 'HighLevelCommunication', 'LowLevelCommunication',  'PotableWater',  'CoolingWater', 'Shelter']\n",
    "units = ['[MWh/day]', '[E/day]', '[E/day]', '[m^3/day]', '[m^3/day]', '[beds/day]']\n",
    "plotter_object.plot_supply_demand_dynamics(system, resources_to_plot, units)\n",
    "plotter_object.plot_gantt_chart(system.components[:20])"
   ]
  }
 ],
 "metadata": {
  "kernelspec": {
   "display_name": "env_pyrecodes",
   "language": "python",
   "name": "python3"
  },
  "language_info": {
   "codemirror_mode": {
    "name": "ipython",
    "version": 3
   },
   "file_extension": ".py",
   "mimetype": "text/x-python",
   "name": "python",
   "nbconvert_exporter": "python",
   "pygments_lexer": "ipython3",
   "version": "3.9.13"
  },
  "orig_nbformat": 4
 },
 "nbformat": 4,
 "nbformat_minor": 2
}
