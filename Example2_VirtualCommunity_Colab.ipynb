{
  "cells": [
    {
      "cell_type": "markdown",
      "metadata": {
        "colab_type": "text",
        "id": "view-in-github"
      },
      "source": [
        "<a href=\"https://colab.research.google.com/github/NikolaBlagojevic/pyrecodes/blob/main/Example2_VirtualCommunity_Colab.ipynb\" target=\"_parent\"><img src=\"https://colab.research.google.com/assets/colab-badge.svg\" alt=\"Open In Colab\"/></a>"
      ]
    },
    {
      "cell_type": "code",
      "execution_count": null,
      "metadata": {
        "colab": {
          "base_uri": "https://localhost:8080/"
        },
        "id": "-hKgsY0TRzjo",
        "outputId": "1085f460-b17e-4fb0-c74b-c8556fea2f4e"
      },
      "outputs": [],
      "source": [
        "!git clone https://github.com/NikolaBlagojevic/pyrecodes.git\n",
        "%cd pyrecodes"
      ]
    },
    {
      "cell_type": "markdown",
      "metadata": {
        "id": "muEcHAghBgi5"
      },
      "source": [
        "# Example 2: Virtual Community\n",
        "\n",
        "Example 2 shows how **pyrecodes** can be used to assess the resilience of interdependent infrastructure systems and housing in a virtual community. This is a toy example to illustrate how the system recovery and interdependencies are captured in iRe-CoDeS.\n",
        "\n",
        "Please refer to the **pyrecodes** [Example 2 page](https://nikolablagojevic.github.io/pyrecodes/html/usage/examples/example_2.html) for further details.\n",
        "\n",
        "![VirtualCommunity](https://github.com/NikolaBlagojevic/pyrecodes/blob/main/Example%202/Example_2_Community.png?raw=1)"
      ]
    },
    {
      "cell_type": "code",
      "execution_count": null,
      "metadata": {
        "colab": {
          "base_uri": "https://localhost:8080/"
        },
        "id": "buqrCY8jBgi7",
        "outputId": "9de1d4d1-508e-480e-9b64-4eed6e93f5b3"
      },
      "outputs": [],
      "source": [
        "from pyrecodes import main\n",
        "\n",
        "system = main.run('./Example 2/VirtualCommunity_Main.json')\n",
        "\n",
        "system.calculate_resilience()"
      ]
    },
    {
      "cell_type": "code",
      "execution_count": null,
      "metadata": {
        "colab": {
          "base_uri": "https://localhost:8080/",
          "height": 1000
        },
        "id": "jkP_l41SBgi8",
        "outputId": "b63308ca-9dde-4c8b-c0ba-e83f1aaa91e6"
      },
      "outputs": [],
      "source": [
        "from pyrecodes.plotter.concrete_plotter import ConcretePlotter\n",
        "\n",
        "plotter_object = ConcretePlotter()\n",
        "resources_to_plot = ['ElectricPower', 'HighLevelCommunication', 'LowLevelCommunication',  'PotableWater',  'CoolingWater', 'Shelter']\n",
        "units = ['[MWh/day]', '[E/day]', '[E/day]', '[m^3/day]', '[m^3/day]', '[beds/day]']\n",
        "plotter_object.plot_supply_demand_dynamics(system, resources_to_plot, units)\n",
        "plotter_object.plot_gantt_chart(system.components[:20])"
      ]
    }
  ],
  "metadata": {
    "colab": {
      "include_colab_link": true,
      "provenance": []
    },
    "kernelspec": {
      "display_name": "Python 3.8.15 ('pyrecodes_env')",
      "language": "python",
      "name": "python3"
    },
    "language_info": {
      "codemirror_mode": {
        "name": "ipython",
        "version": 3
      },
      "file_extension": ".py",
      "mimetype": "text/x-python",
      "name": "python",
      "nbconvert_exporter": "python",
      "pygments_lexer": "ipython3",
      "version": "3.9.6"
    },
    "orig_nbformat": 4,
    "vscode": {
      "interpreter": {
        "hash": "1b6a5737a7415642fca6003ea82352d5d1dca0ebd2e87f055b5aa6303d49f64d"
      }
    }
  },
  "nbformat": 4,
  "nbformat_minor": 0
}
