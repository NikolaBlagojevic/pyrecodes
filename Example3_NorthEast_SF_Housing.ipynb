{
 "cells": [
  {
   "attachments": {},
   "cell_type": "markdown",
   "metadata": {},
   "source": [
    "# Example 3: Housing Resilience of North-East San Francisco"
   ]
  },
  {
   "cell_type": "markdown",
   "metadata": {},
   "source": [
    "Example 3 shows how **pyrecodes** can integrate with the `SimCenter's R2DTool <https://github.com/NHERI-SimCenter/R2DTool>`_ and assess housing resilience of a community. \n",
    "\n",
    "The example is based on `R2DTools's Example 1 <https://nheri-simcenter.github.io/R2D-Documentation/common/user_manual/examples/desktop/E1BasicHAZUS/README.html>`_. R2D Tool outputs initial post-earthquake damage states of all buildings in the considered region following a hypothetical earthquake. **pyrecodes** takes this information and simulates regional recovery considering impeding factors and resource constraints. Further details can be found `here <https://doi.org/10.1016/j.rcns.2022.03.001>`_.\n",
    "\n",
    "![North-East San Francisco Case Study](./Example%203/Example_3_NorthEastSF.png)"
   ]
  },
  {
   "cell_type": "markdown",
   "metadata": {},
   "source": [
    "## Input data\n",
    "\n",
    "Three files are needed to construct the model:\n",
    "- **Component library** file: input file defining the blueprints for system’s components.\n",
    "- **System Configuration** file: input file defining the spatial and temporal discretization of the system, component locations, considered resources and resilience calculators.\n",
    "- **main** file: input file defining the classes and path to files of the component library and the system.\n",
    "\n",
    "In this Example, these files are in a JSON format."
   ]
  },
  {
   "cell_type": "code",
   "execution_count": null,
   "metadata": {},
   "outputs": [],
   "source": [
    "from pyrecodes import main\n",
    "system = main.run('./Example 3/NorthEast_SF_Housing_Main.json')\n",
    "# system = main.load_system('./Example_3.pickle')\n",
    "system.calculate_resilience()"
   ]
  },
  {
   "cell_type": "code",
   "execution_count": null,
   "metadata": {},
   "outputs": [],
   "source": [
    "from pyrecodes import Plotter\n",
    "system.save_as_pickle('Example_3.pickle')\n",
    "plotter_object = Plotter.Plotter()\n",
    "x_axis_label = 'Time step [day]'\n",
    "resource_names = ['Shelter', 'FirstResponderEngineer', 'RepairCrew', 'Money']\n",
    "for resource_name in resource_names:\n",
    "    y_axis_label = f'{resource_name} Demand/Supply/Consumption'\n",
    "    axis_object = plotter_object.setup_lor_plot_fig(x_axis_label, y_axis_label)\n",
    "    plotter_object.plot_single_resource(list(range(system.START_TIME_STEP, system.time_step+1)), system.resilience_calculators[0].system_supply[resource_name], \n",
    "                                        system.resilience_calculators[0].system_demand[resource_name], \n",
    "                                        system.resilience_calculators[0].system_consumption[resource_name], axis_object)\n",
    "\n",
    "axis_object = plotter_object.setup_gantt_chart_fig(x_axis_label, system.components)\n",
    "plotter_object.plot_gantt_chart(system.components[:20], axis_object)"
   ]
  },
  {
   "cell_type": "code",
   "execution_count": null,
   "metadata": {},
   "outputs": [],
   "source": [
    "from pyrecodes import GeoVisualisator as gvis\n",
    "import matplotlib.pyplot as plt\n",
    "from importlib import reload\n",
    "reload(gvis)\n",
    "geo_visualisator = gvis.R2D_GeoVisualisator(system.components)\n",
    "time_steps_to_plot = list(range(1, 50)) + list(range(51, 1500, 4))\n",
    "for time_step in range(1, 2):\n",
    "    # geo_visualisator.create_current_state_shapefile(time_step=time_step)    \n",
    "    geo_visualisator.create_current_state_buildings_and_supply_demand_figure(time_step, system, save=True, dpi=100)\n",
    "# geo_visualisator.create_recovery_gif(time_steps_to_plot)"
   ]
  },
  {
   "cell_type": "code",
   "execution_count": null,
   "metadata": {},
   "outputs": [],
   "source": []
  }
 ],
 "metadata": {
  "kernelspec": {
   "display_name": "Python 3.8.13 ('pyrecodes_env')",
   "language": "python",
   "name": "python3"
  },
  "language_info": {
   "codemirror_mode": {
    "name": "ipython",
    "version": 3
   },
   "file_extension": ".py",
   "mimetype": "text/x-python",
   "name": "python",
   "nbconvert_exporter": "python",
   "pygments_lexer": "ipython3",
   "version": "3.9.6"
  },
  "orig_nbformat": 4,
  "vscode": {
   "interpreter": {
    "hash": "1b6a5737a7415642fca6003ea82352d5d1dca0ebd2e87f055b5aa6303d49f64d"
   }
  }
 },
 "nbformat": 4,
 "nbformat_minor": 2
}
