{
 "cells": [
  {
   "attachments": {},
   "cell_type": "markdown",
   "metadata": {},
   "source": [
    "# Example 3: Housing Resilience of North-East San Francisco"
   ]
  },
  {
   "cell_type": "markdown",
   "metadata": {},
   "source": [
    "Example 3 shows how **pyrecodes** can integrate with the [SimCenter's R2DTool](https://github.com/NHERI-SimCenter/R2DTool) and assess housing resilience of a community. \n",
    "\n",
    "Please refer to the **pyrecodes** [Example 3 page](https://nikolablagojevic.github.io/pyrecodes/html/usage/examples/example_3.html) for further details. \n",
    "\n",
    "![North-East San Francisco Case Study](./Example%203/Example_3_NorthEastSF.png)"
   ]
  },
  {
   "cell_type": "code",
   "execution_count": 3,
   "metadata": {},
   "outputs": [
    {
     "name": "stdout",
     "output_type": "stream",
     "text": [
      "\n",
      "Resilience assessment finished.\n"
     ]
    },
    {
     "data": {
      "text/plain": [
       "[{'Shelter': 1361011.0,\n",
       "  'FirstResponderEngineer': 0.0,\n",
       "  'RepairCrew': 57587.0,\n",
       "  'Money': 0.0},\n",
       " [{'Resource': 'Shelter',\n",
       "   'Scope': 'All',\n",
       "   'DesiredFunctionalityLevel': 0.95,\n",
       "   'MetAtTimeStep': 413}]]"
      ]
     },
     "execution_count": 3,
     "metadata": {},
     "output_type": "execute_result"
    }
   ],
   "source": [
    "from pyrecodes import main\n",
    "system = main.run('./Example 3/NorthEast_SF_Housing_Main.json')\n",
    "\n",
    "system.calculate_resilience()"
   ]
  },
  {
   "cell_type": "code",
   "execution_count": null,
   "metadata": {},
   "outputs": [],
   "source": [
    "from pyrecodes import Plotter\n",
    "plotter_object = Plotter.Plotter()\n",
    "x_axis_label = 'Time step [day]'\n",
    "resources_to_plot = ['Shelter', 'RepairCrew']\n",
    "for resource_name in resources_to_plot:\n",
    "    y_axis_label = f'{resource_name} Demand/Supply/Consumption'\n",
    "    axis_object = plotter_object.setup_lor_plot_fig(x_axis_label, y_axis_label)\n",
    "    # supply/demand/consumption information is in the ReCoDeS resilience calculator object, which is stored in the system object: system.resilience_calculators[0]\n",
    "    plotter_object.plot_single_resource(list(range(system.START_TIME_STEP, system.time_step+1)), system.resilience_calculators[0].system_supply[resource_name], \n",
    "                                        system.resilience_calculators[0].system_demand[resource_name], \n",
    "                                        system.resilience_calculators[0].system_consumption[resource_name], axis_object)\n",
    "\n",
    "# plot the gantt chart for the first 20 components\n",
    "axis_object = plotter_object.setup_gantt_chart_fig(x_axis_label, system.components)\n",
    "plotter_object.plot_gantt_chart(system.components[:20], axis_object)"
   ]
  },
  {
   "cell_type": "code",
   "execution_count": null,
   "metadata": {},
   "outputs": [],
   "source": [
    "from pyrecodes import GeoVisualizer as gvis\n",
    "\n",
    "geo_visualisator = gvis.R2D_GeoVisualizer(system.components)\n",
    "time_steps_to_plot = list(range(1, 5))\n",
    "\n",
    "create_time_step_shapefiles = True\n",
    "create_time_step_building_figures = True\n",
    "create_recovery_gif = True\n",
    "\n",
    "for time_step in time_steps_to_plot:\n",
    "    if create_time_step_shapefiles:\n",
    "        geo_visualisator.create_current_state_shapefile(time_step=time_step, file_name=f'./Example 3/TimeStep_{time_step}.shp')    \n",
    "    if create_time_step_building_figures:\n",
    "        geo_visualisator.create_current_state_buildings_and_supply_demand_figure(time_step, system, save=True, dpi=100)\n",
    "    \n",
    "if create_recovery_gif:\n",
    "    # Note: To create a gif, you need to have the time_step figures already created.\n",
    "    # They are created using the geo_visualisator.create_current_state_buildings_and_supply_demand_figure method.\n",
    "    geo_visualisator.create_recovery_gif(time_steps_to_plot)"
   ]
  }
 ],
 "metadata": {
  "kernelspec": {
   "display_name": "Python 3.8.13 ('pyrecodes_env')",
   "language": "python",
   "name": "python3"
  },
  "language_info": {
   "codemirror_mode": {
    "name": "ipython",
    "version": 3
   },
   "file_extension": ".py",
   "mimetype": "text/x-python",
   "name": "python",
   "nbconvert_exporter": "python",
   "pygments_lexer": "ipython3",
   "version": "3.9.6"
  },
  "orig_nbformat": 4,
  "vscode": {
   "interpreter": {
    "hash": "1b6a5737a7415642fca6003ea82352d5d1dca0ebd2e87f055b5aa6303d49f64d"
   }
  }
 },
 "nbformat": 4,
 "nbformat_minor": 2
}
