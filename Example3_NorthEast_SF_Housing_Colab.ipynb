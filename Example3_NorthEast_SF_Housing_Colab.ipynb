{
  "cells": [
    {
      "cell_type": "markdown",
      "metadata": {
        "colab_type": "text",
        "id": "view-in-github"
      },
      "source": [
        "<a href=\"https://colab.research.google.com/github/NikolaBlagojevic/pyrecodes/blob/main/Example3_NorthEast_SF_Housing_Colab.ipynb\" target=\"_parent\"><img src=\"https://colab.research.google.com/assets/colab-badge.svg\" alt=\"Open In Colab\"/></a>"
      ]
    },
    {
      "cell_type": "code",
      "execution_count": null,
      "metadata": {
        "id": "7r_rsV5LYL3m"
      },
      "outputs": [],
      "source": [
        "!pip install pyrecodes\n",
        "!git clone https://github.com/NikolaBlagojevic/pyrecodes.git\n",
        "%cd pyrecodes"
      ]
    },
    {
      "cell_type": "markdown",
      "metadata": {
        "id": "2zOd7PJoYKa_"
      },
      "source": [
        "# Example 3: Housing Resilience of North-East San Francisco"
      ]
    },
    {
      "cell_type": "markdown",
      "metadata": {
        "id": "zz-EL0SsYKbB"
      },
      "source": [
        "Example 3 shows how **pyrecodes** can integrate with the [SimCenter's R2DTool](https://github.com/NHERI-SimCenter/R2DTool) and assess housing resilience of a community.\n",
        "\n",
        "Please refer to the **pyrecodes** [Example 3 page](https://nikolablagojevic.github.io/pyrecodes/html/usage/examples/example_3.html) for further details.\n",
        "\n",
        "![North-East San Francisco Case Study](https://github.com/NikolaBlagojevic/pyrecodes/blob/main/Example%203/Example_3_NorthEastSF.png?raw=1)"
      ]
    },
    {
      "cell_type": "code",
      "execution_count": null,
      "metadata": {
        "id": "z4DrDgknYKbB"
      },
      "outputs": [],
      "source": [
        "from pyrecodes import main\n",
        "\n",
        "system = main.run('./Example 3/NorthEast_SF_Housing_Main.json')\n",
        "\n",
        "system.calculate_resilience()"
      ]
    },
    {
      "cell_type": "code",
      "execution_count": null,
      "metadata": {
        "id": "JK7VS3tTYKbC"
      },
      "outputs": [],
      "source": [
        "from pyrecodes.plotter.concrete_plotter import ConcretePlotter\n",
        "\n",
        "plotter_object = ConcretePlotter()\n",
        "resources_to_plot = ['Shelter', 'RepairCrew']\n",
        "units = ['[beds/day]', '[RC/day]']\n",
        "plotter_object.plot_supply_demand_dynamics(system, resources_to_plot, units)\n",
        "plotter_object.plot_gantt_chart(system.components[:20])"
      ]
    },
    {
      "cell_type": "code",
      "execution_count": null,
      "metadata": {
        "id": "ULBgXLG0YKbC"
      },
      "outputs": [],
      "source": [
        "from pyrecodes.geovisualizer.r2d_geovisualizer import R2D_GeoVisualizer\n",
        "geo_visualizer = R2D_GeoVisualizer(system.components)\n",
        "geo_visualizer.plot_component_localities()\n",
        "\n",
        "time_steps_to_plot = list(range(1, 50, 1)) + list(range(50, system.time_step+1, 20)) + [system.time_step]\n",
        "\n",
        "create_time_step_building_figures = True\n",
        "create_recovery_gif = True\n",
        "\n",
        "for time_step in time_steps_to_plot: \n",
        "    if create_time_step_building_figures:\n",
        "        geo_visualizer.create_current_state_buildings_and_supply_demand_figure(time_step, system, resources_to_plot=['Shelter', 'RepairCrew'], show=False, save=True, dpi=100)\n",
        "    \n",
        "if create_recovery_gif:\n",
        "    # To create a gif, you need to have the time_step figures already created.\n",
        "    # They are created using the geo_visualizer.create_current_state_buildings_and_supply_demand_figure method with the save=True and show=False option.\n",
        "    geo_visualizer.create_recovery_gif(time_steps_to_plot)"
      ]
    }
  ],
  "metadata": {
    "colab": {
      "include_colab_link": true,
      "provenance": []
    },
    "kernelspec": {
      "display_name": "Python 3.8.13 ('pyrecodes_env')",
      "language": "python",
      "name": "python3"
    },
    "language_info": {
      "codemirror_mode": {
        "name": "ipython",
        "version": 3
      },
      "file_extension": ".py",
      "mimetype": "text/x-python",
      "name": "python",
      "nbconvert_exporter": "python",
      "pygments_lexer": "ipython3",
      "version": "3.9.6"
    },
    "orig_nbformat": 4,
    "vscode": {
      "interpreter": {
        "hash": "1b6a5737a7415642fca6003ea82352d5d1dca0ebd2e87f055b5aa6303d49f64d"
      }
    }
  },
  "nbformat": 4,
  "nbformat_minor": 0
}
