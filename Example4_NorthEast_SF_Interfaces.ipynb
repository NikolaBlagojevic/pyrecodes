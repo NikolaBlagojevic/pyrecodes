{
 "cells": [
  {
   "cell_type": "markdown",
   "metadata": {},
   "source": [
    "# Example 4: Integrating infrastructure systems into resilience assessment of North-East San Francisco"
   ]
  },
  {
   "cell_type": "markdown",
   "metadata": {},
   "source": [
    "Example 4 shows how **pyrecodes** can integrate infrastructure systems into regional resilience assessment using simple supply/demand interfaces.\n",
    "\n",
    "Please refer to the **pyrecodes** [Example 4 page](https://nikolablagojevic.github.io/pyrecodes/html/usage/examples/example_4.html) for further details."
   ]
  },
  {
   "cell_type": "code",
   "execution_count": null,
   "metadata": {},
   "outputs": [],
   "source": [
    "from pyrecodes import main\n",
    "system = main.run('./Example 4/NorthEast_SF_Housing_Interface_Infrastructure_Main.json')"
   ]
  },
  {
   "cell_type": "code",
   "execution_count": null,
   "metadata": {},
   "outputs": [],
   "source": [
    "from pyrecodes import GeoVisualizer as gvis\n",
    "geo_visualizer = gvis.R2D_GeoVisualizer(system.components)\n",
    "geo_visualizer.plot_component_localities()"
   ]
  },
  {
   "cell_type": "code",
   "execution_count": null,
   "metadata": {},
   "outputs": [],
   "source": [
    "from pyrecodes import Plotter\n",
    "\n",
    "plotter_object = Plotter.Plotter()\n",
    "x_axis_label = 'Time step [day]'\n",
    "resources_to_plot = ['FunctionalHousing', 'ElectricPower', 'PotableWater', 'CellularCommunication']\n",
    "resource_units = ['[beds/day]', '[MWh/day]', '[l/day]', '[E/day]']\n",
    "# define which resilience calculator to use to plot the supply/demand/consumption of the resources\n",
    "# they are ordered as in the system configuration file\n",
    "resilience_calculator_id = 4\n",
    "for i, resource_name in enumerate(resources_to_plot):    \n",
    "    y_axis_label = f'{resource_name} {resource_units[i]} | {system.resilience_calculators[resilience_calculator_id].scope}'\n",
    "    axis_object = plotter_object.setup_lor_plot_fig(x_axis_label, y_axis_label)    \n",
    "    time_range = system.time_step\n",
    "    time_steps_before_event = 10 # \n",
    "    plotter_object.plot_single_resource(list(range(-time_steps_before_event, system.time_step)), system.resilience_calculators[resilience_calculator_id].system_supply[resource_name][:time_range], \n",
    "                                        system.resilience_calculators[resilience_calculator_id].system_demand[resource_name][:time_range], \n",
    "                                        system.resilience_calculators[resilience_calculator_id].system_consumption[resource_name][:time_range], axis_object, warmup=time_steps_before_event)\n",
    "        \n",
    "    "
   ]
  }
 ],
 "metadata": {
  "kernelspec": {
   "display_name": "Python 3.8.15 ('pyrecodes_env')",
   "language": "python",
   "name": "python3"
  },
  "language_info": {
   "codemirror_mode": {
    "name": "ipython",
    "version": 3
   },
   "file_extension": ".py",
   "mimetype": "text/x-python",
   "name": "python",
   "nbconvert_exporter": "python",
   "pygments_lexer": "ipython3",
   "version": "3.9.6"
  },
  "orig_nbformat": 4,
  "vscode": {
   "interpreter": {
    "hash": "1b6a5737a7415642fca6003ea82352d5d1dca0ebd2e87f055b5aa6303d49f64d"
   }
  }
 },
 "nbformat": 4,
 "nbformat_minor": 2
}
