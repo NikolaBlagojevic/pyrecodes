{
 "cells": [
  {
   "cell_type": "markdown",
   "metadata": {},
   "source": [
    "# Example 4: Integrating infrastructure systems into resilience assessment of North-East San Francisco"
   ]
  },
  {
   "cell_type": "markdown",
   "metadata": {},
   "source": [
    "Example 4 shows how **pyrecodes** can integrate outputs of third-party infrastructure system models into regional resilience assessment using simple supply/demand interfaces.\n",
    "\n",
    "Please refer to the **pyrecodes** [Example 4 page](https://nikolablagojevic.github.io/pyrecodes/html/usage/examples/example_4.html) for further details."
   ]
  },
  {
   "cell_type": "code",
   "execution_count": null,
   "metadata": {},
   "outputs": [],
   "source": [
    "from pyrecodes import main\n",
    "\n",
    "system = main.run('./Example 4/NorthEast_SF_Housing_Interface_Infrastructure_Main.json')\n",
    "\n",
    "system.calculate_resilience()"
   ]
  },
  {
   "cell_type": "code",
   "execution_count": null,
   "metadata": {},
   "outputs": [],
   "source": [
    "from pyrecodes.plotter.concrete_plotter import ConcretePlotter\n",
    "\n",
    "plotter_object = ConcretePlotter()\n",
    "resources_to_plot = ['FunctionalHousing', 'ElectricPower', 'PotableWater']\n",
    "units = ['[beds/day]', '[MWh/day]', '[l/day]']\n",
    "plotter_object.plot_supply_demand_dynamics(system, resources_to_plot, units, resilience_calculator_id=1) "
   ]
  },
  {
   "cell_type": "code",
   "execution_count": null,
   "metadata": {},
   "outputs": [],
   "source": [
    "from pyrecodes.geovisualizer.r2d_geovisualizer import R2D_GeoVisualizer\n",
    "geo_visualizer = R2D_GeoVisualizer(system.components)\n",
    "geo_visualizer.plot_component_localities()\n",
    "\n",
    "time_steps_to_plot = list(range(1, 50, 1)) + list(range(50, system.time_step+1, 20)) + [system.time_step]\n",
    "\n",
    "create_time_step_building_figures = True\n",
    "create_recovery_gif = True\n",
    "\n",
    "for time_step in time_steps_to_plot: \n",
    "    if create_time_step_building_figures:\n",
    "        geo_visualizer.create_current_state_buildings_and_supply_demand_figure(time_step, system, resources_to_plot=['Shelter', 'PotableWater'], units=['[beds/day]', '[l/day]'], show=False, save=True, dpi=50)\n",
    "    \n",
    "if create_recovery_gif:\n",
    "    # To create a gif, you need to have the time_step figures already created.\n",
    "    # They are created using the geo_visualizer.create_current_state_buildings_and_supply_demand_figure method with the save=True and show=False option.\n",
    "    geo_visualizer.create_recovery_gif(time_steps_to_plot)"
   ]
  }
 ],
 "metadata": {
  "kernelspec": {
   "display_name": "env_pyrecodes",
   "language": "python",
   "name": "python3"
  },
  "language_info": {
   "codemirror_mode": {
    "name": "ipython",
    "version": 3
   },
   "file_extension": ".py",
   "mimetype": "text/x-python",
   "name": "python",
   "nbconvert_exporter": "python",
   "pygments_lexer": "ipython3",
   "version": "3.9.13"
  },
  "orig_nbformat": 4
 },
 "nbformat": 4,
 "nbformat_minor": 2
}
