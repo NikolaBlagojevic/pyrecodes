{
 "cells": [
  {
   "cell_type": "markdown",
   "metadata": {},
   "source": [
    "# Example 4: Integrating infrastructure systems into resilience assessment of North-East San Francisco"
   ]
  },
  {
   "cell_type": "markdown",
   "metadata": {},
   "source": [
    "Example 4 shows how **pyrecodes** can integrate outputs of third-party infrastructure system models into regional resilience assessment using simple supply/demand interfaces.\n",
    "\n",
    "Please refer to the **pyrecodes** [Example 4 page](https://nikolablagojevic.github.io/pyrecodes/html/usage/examples/example_4.html) for further details."
   ]
  },
  {
   "cell_type": "code",
   "execution_count": null,
   "metadata": {},
   "outputs": [],
   "source": [
    "from pyrecodes import main\n",
    "\n",
    "system = main.run('./Example 4/NorthEast_SF_Housing_Interface_Infrastructure_Main.json')\n",
    "\n",
    "system.calculate_resilience()"
   ]
  },
  {
   "cell_type": "code",
   "execution_count": null,
   "metadata": {},
   "outputs": [],
   "source": [
    "from pyrecodes.plotter.concrete_plotter import ConcretePlotter\n",
    "\n",
    "plotter_object = ConcretePlotter()\n",
    "resources_to_plot = ['FunctionalHousing', 'ElectricPower', 'PotableWater']\n",
    "units = ['[beds/day]', '[MWh/day]', '[l/day]']\n",
    "plotter_object.plot_supply_demand_dynamics(system, resources_to_plot, units, resilience_calculator_id=4) "
   ]
  },
  {
   "cell_type": "code",
   "execution_count": null,
   "metadata": {},
   "outputs": [],
   "source": []
  }
 ],
 "metadata": {
  "kernelspec": {
   "display_name": "env_pyrecodes",
   "language": "python",
   "name": "python3"
  },
  "language_info": {
   "codemirror_mode": {
    "name": "ipython",
    "version": 3
   },
   "file_extension": ".py",
   "mimetype": "text/x-python",
   "name": "python",
   "nbconvert_exporter": "python",
   "pygments_lexer": "ipython3",
   "version": "3.9.13"
  },
  "orig_nbformat": 4
 },
 "nbformat": 4,
 "nbformat_minor": 2
}
