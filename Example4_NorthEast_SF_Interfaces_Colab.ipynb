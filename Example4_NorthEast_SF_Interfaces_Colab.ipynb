{
  "cells": [
    {
      "cell_type": "markdown",
      "metadata": {
        "colab_type": "text",
        "id": "view-in-github"
      },
      "source": [
        "<a href=\"https://colab.research.google.com/github/NikolaBlagojevic/pyrecodes/blob/main/Example4_NorthEast_SF_Interfaces_Colab.ipynb\" target=\"_parent\"><img src=\"https://colab.research.google.com/assets/colab-badge.svg\" alt=\"Open In Colab\"/></a>"
      ]
    },
    {
      "cell_type": "code",
      "execution_count": null,
      "metadata": {
        "id": "irM8CW5ObMfz"
      },
      "outputs": [],
      "source": [
        "!pip install pyrecodes\n",
        "!git clone https://github.com/NikolaBlagojevic/pyrecodes.git\n",
        "%cd pyrecodes"
      ]
    },
    {
      "cell_type": "markdown",
      "metadata": {
        "id": "o49dOU9BbLd6"
      },
      "source": [
        "# Example 4: Integrating infrastructure systems into resilience assessment of North-East San Francisco"
      ]
    },
    {
      "cell_type": "markdown",
      "metadata": {
        "id": "2b3Pf0hFbLd8"
      },
      "source": [
        "Example 4 shows how **pyrecodes** can integrate outputs of third-party infrastructure system models into regional resilience assessment using simple supply/demand interfaces.\n",
        "\n",
        "Please refer to the **pyrecodes** [Example 4 page](https://nikolablagojevic.github.io/pyrecodes/html/usage/examples/example_4.html) for further details."
      ]
    },
    {
      "cell_type": "code",
      "execution_count": null,
      "metadata": {
        "id": "jaVuCxpQbLd8"
      },
      "outputs": [],
      "source": [
        "from pyrecodes import main\n",
        "\n",
        "system = main.run('./Example 4/NorthEast_SF_Housing_Interface_Infrastructure_Main.json')\n",
        "\n",
        "system.calculate_resilience()"
      ]
    },
    {
      "cell_type": "code",
      "execution_count": null,
      "metadata": {
        "id": "HVYUaB38bLd9"
      },
      "outputs": [],
      "source": [
        "from pyrecodes.plotter.concrete_plotter import ConcretePlotter\n",
        "\n",
        "plotter_object = ConcretePlotter()\n",
        "resources_to_plot = ['FunctionalHousing', 'ElectricPower', 'PotableWater', 'CellularCommunication']\n",
        "units = ['[beds/day]', '[MWh/day]', '[l/day]', '[E/day]']\n",
        "plotter_object.plot_supply_demand_dynamics(system, resources_to_plot, units, resilience_calculator_id=4) "
      ]
    }
  ],
  "metadata": {
    "colab": {
      "include_colab_link": true,
      "provenance": []
    },
    "kernelspec": {
      "display_name": "Python 3.8.15 ('pyrecodes_env')",
      "language": "python",
      "name": "python3"
    },
    "language_info": {
      "codemirror_mode": {
        "name": "ipython",
        "version": 3
      },
      "file_extension": ".py",
      "mimetype": "text/x-python",
      "name": "python",
      "nbconvert_exporter": "python",
      "pygments_lexer": "ipython3",
      "version": "3.9.6"
    },
    "orig_nbformat": 4,
    "vscode": {
      "interpreter": {
        "hash": "1b6a5737a7415642fca6003ea82352d5d1dca0ebd2e87f055b5aa6303d49f64d"
      }
    }
  },
  "nbformat": 4,
  "nbformat_minor": 0
}
