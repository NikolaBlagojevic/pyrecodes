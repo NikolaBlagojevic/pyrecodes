{
 "cells": [
  {
   "cell_type": "code",
   "execution_count": null,
   "metadata": {},
   "outputs": [],
   "source": [
    "!pip install --pre \"pyrecodes[third_party_models]\"\n",
    "!git clone https://github.com/NikolaBlagojevic/pyrecodes.git\n",
    "%cd pyrecodes"
   ]
  },
  {
   "cell_type": "markdown",
   "metadata": {},
   "source": [
    "# Example 5: Recovery of the Alameda Island using R2D damage estimates and third-party infrastructure simulators."
   ]
  },
  {
   "cell_type": "markdown",
   "metadata": {},
   "source": [
    "Example 5 shows how **pyrecodes** extends NHERI R2D's damage assessment to simulate recovery and integrate third-party infrastructure simulators of water supply systems and transportation systems to assess their interdependencies. Sparse recovery and distribution time stepping is used.\n",
    "\n",
    "Please refer to the **pyrecodes** [Example 5 page](https://nikolablagojevic.github.io/pyrecodes/html/usage/examples/example_5.html) for further details."
   ]
  },
  {
   "cell_type": "code",
   "execution_count": null,
   "metadata": {},
   "outputs": [],
   "source": [
    "from pyrecodes import main\n",
    "\n",
    "system = main.run('./Example 5/SmallAlameda_Main.json')\n",
    "\n",
    "system.calculate_resilience()"
   ]
  },
  {
   "cell_type": "code",
   "execution_count": null,
   "metadata": {},
   "outputs": [],
   "source": [
    "from pyrecodes.plotter.concrete_plotter import ConcretePlotter\n",
    "\n",
    "plotter_object = ConcretePlotter()\n",
    "resources_to_plot = ['TransportationService', 'Shelter', 'PotableWater',  'RepairCrew_Buildings', 'RepairCrew_Water', 'RepairCrew_Transportation']\n",
    "units = ['[trip/day]', '[beds/day]', '[m^3/day]', '[RC/day]', '[RC/day]', '[RC/day]']\n",
    "plotter_object.plot_supply_demand_dynamics(system, resources_to_plot, units)\n",
    "plotter_object.plot_gantt_chart(system.components[:20])"
   ]
  }
 ],
 "metadata": {
  "kernelspec": {
   "display_name": "env_pyrecodes",
   "language": "python",
   "name": "python3"
  },
  "language_info": {
   "codemirror_mode": {
    "name": "ipython",
    "version": 3
   },
   "file_extension": ".py",
   "mimetype": "text/x-python",
   "name": "python",
   "nbconvert_exporter": "python",
   "pygments_lexer": "ipython3",
   "version": "3.9.13"
  },
  "orig_nbformat": 4
 },
 "nbformat": 4,
 "nbformat_minor": 2
}
