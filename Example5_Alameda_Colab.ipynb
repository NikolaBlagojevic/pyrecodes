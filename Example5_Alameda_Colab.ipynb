{
 "cells": [
  {
   "cell_type": "code",
   "execution_count": null,
   "metadata": {},
   "outputs": [],
   "source": [
    "!pip install pyrecodes\n",
    "!git clone https://github.com/NikolaBlagojevic/pyrecodes.git\n",
    "%cd pyrecodes"
   ]
  },
  {
   "cell_type": "markdown",
   "metadata": {},
   "source": [
    "# Example 5: Recovery of the Alameda Island using R2D damage estimates and third-party infrastructure simulators."
   ]
  },
  {
   "cell_type": "markdown",
   "metadata": {},
   "source": [
    "Example 5 shows how **pyrecodes** can extends NHERI R2D's damage assessment to simulate recovery and integrate third-party infrastructure simulators of water supply systems and transportation systems to assess their interdependencies. Sparse recovery and distribution time stepping is used.\n",
    "\n",
    "Please refer to the **pyrecodes** [Example 5 page](https://nikolablagojevic.github.io/pyrecodes/html/usage/examples/example_5.html) for further details."
   ]
  },
  {
   "cell_type": "code",
   "execution_count": null,
   "metadata": {},
   "outputs": [],
   "source": [
    "from pyrecodes import main\n",
    "\n",
    "system = main.run('./Example 5/Example5_Main.json')\n",
    "\n",
    "system.calculate_resilience()"
   ]
  },
  {
   "cell_type": "code",
   "execution_count": null,
   "metadata": {},
   "outputs": [],
   "source": [
    "from pyrecodes.geovisualizer.r2d_geovisualizer import R2D_GeoVisualizer\n",
    "geo_visualizer = R2D_GeoVisualizer(system.components)\n",
    "geo_visualizer.plot_component_localities()\n",
    "\n",
    "time_steps_to_plot = list(range(1, 5))\n",
    "\n",
    "create_time_step_building_figures = True\n",
    "create_recovery_gif = True\n",
    "\n",
    "for time_step in time_steps_to_plot: \n",
    "    if create_time_step_building_figures:\n",
    "        geo_visualizer.create_current_state_buildings_and_supply_demand_figure(time_step, system, resources_to_plot=['Shelter', 'RepairCrew_Buildings'], show=False, save=True, dpi=100)\n",
    "    \n",
    "if create_recovery_gif:\n",
    "    # Note: To create a gif, you need to have the time_step figures already created.\n",
    "    # They are created using the geo_visualisator.create_current_state_buildings_and_supply_demand_figure method with the save=True and show=False option.\n",
    "    geo_visualizer.create_recovery_gif(time_steps_to_plot)"
   ]
  },
  {
   "cell_type": "code",
   "execution_count": null,
   "metadata": {},
   "outputs": [],
   "source": [
    "from pyrecodes.plotter.concrete_plotter import ConcretePlotter\n",
    "\n",
    "plotter_object = ConcretePlotter()\n",
    "resources_to_plot = ['Shelter', 'PotableWater',  'RepairCrew_Buildings']\n",
    "units = ['[beds/day]', '[m^3/day]', '[RC/day]']\n",
    "plotter_object.plot_supply_demand_dynamics(system, resources_to_plot, units)\n",
    "plotter_object.plot_gantt_chart(system.components[:20])"
   ]
  }
 ],
 "metadata": {
  "kernelspec": {
   "display_name": "env_pyrecodes",
   "language": "python",
   "name": "python3"
  },
  "language_info": {
   "codemirror_mode": {
    "name": "ipython",
    "version": 3
   },
   "file_extension": ".py",
   "mimetype": "text/x-python",
   "name": "python",
   "nbconvert_exporter": "python",
   "pygments_lexer": "ipython3",
   "version": "3.9.13"
  },
  "orig_nbformat": 4
 },
 "nbformat": 4,
 "nbformat_minor": 2
}
